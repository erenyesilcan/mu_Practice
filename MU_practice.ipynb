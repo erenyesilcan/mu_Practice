{
 "cells": [
  {
   "cell_type": "code",
   "execution_count": null,
   "id": "fdb316cc-2d5f-40be-8374-147f176db33c",
   "metadata": {},
   "outputs": [],
   "source": [
    "Konu: IoT cihazların tarımdaki etkinliği."
   ]
  },
  {
   "cell_type": "code",
   "execution_count": null,
   "id": "8f22b64f-ec6d-4811-b866-56168dc8cb0e",
   "metadata": {},
   "outputs": [],
   "source": []
  }
 ],
 "metadata": {
  "kernelspec": {
   "display_name": "Python 3 (ipykernel)",
   "language": "python",
   "name": "python3"
  },
  "language_info": {
   "codemirror_mode": {
    "name": "ipython",
    "version": 3
   },
   "file_extension": ".py",
   "mimetype": "text/x-python",
   "name": "python",
   "nbconvert_exporter": "python",
   "pygments_lexer": "ipython3",
   "version": "3.14.0"
  }
 },
 "nbformat": 4,
 "nbformat_minor": 5
}
