{
 "cells": [
  {
   "cell_type": "markdown",
   "id": "937e194e-6ae5-4931-be6c-6d897f66a1f6",
   "metadata": {},
   "source": [
    "## Konu: \n",
    "IoT cihazların tarımdaki etkinliği."
   ]
  },
  {
   "cell_type": "markdown",
   "id": "9125f1e0-e4b0-44ef-a14f-e3d2f2a99c0b",
   "metadata": {},
   "source": [
    "## Problem: \n",
    "IoT cihazlar tarımda verimliliği arttırır mı?"
   ]
  },
  {
   "cell_type": "markdown",
   "id": "4f48c7eb-90d2-49e0-bb78-a59cab2f4580",
   "metadata": {},
   "source": [
    "## Bağımlı Değişken: \n",
    "Hasat edilen mahsul miktarı ve kullanılan kaynak miktarı."
   ]
  },
  {
   "cell_type": "markdown",
   "id": "264c87d0-4ec3-44a4-be95-e16ed0ac7239",
   "metadata": {},
   "source": [
    "## Bağımsız Değişken: \n",
    "IoT cihazların tohum ekim, olgunlaştırma ve hasat sürecinde kullanılması."
   ]
  },
  {
   "cell_type": "markdown",
   "id": "44287298-af96-47f6-9b28-69c6ff7a64e2",
   "metadata": {},
   "source": [
    "## Hipotez 1: \n",
    "IoT cihazların kullanımı hasat edilen mahsül sayısında artış sağlar."
   ]
  },
  {
   "cell_type": "markdown",
   "id": "abf783d9-1588-4104-9178-937f1d1c4e21",
   "metadata": {},
   "source": [
    "## Hipotez 2: \n",
    "IoT cihazların kullanımı kaynak kullanımını azaltır."
   ]
  },
  {
   "cell_type": "code",
   "execution_count": null,
   "id": "b86307b3-41d8-45a3-92e4-3e6076fe9acd",
   "metadata": {},
   "outputs": [],
   "source": []
  }
 ],
 "metadata": {
  "kernelspec": {
   "display_name": "Python 3 (ipykernel)",
   "language": "python",
   "name": "python3"
  },
  "language_info": {
   "codemirror_mode": {
    "name": "ipython",
    "version": 3
   },
   "file_extension": ".py",
   "mimetype": "text/x-python",
   "name": "python",
   "nbconvert_exporter": "python",
   "pygments_lexer": "ipython3",
   "version": "3.14.0"
  }
 },
 "nbformat": 4,
 "nbformat_minor": 5
}
